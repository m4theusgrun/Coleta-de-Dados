{
  "cells": [
    {
      "cell_type": "markdown",
      "metadata": {
        "id": "KJqp9AANOCtf"
      },
      "source": [
        "<img src=\"https://raw.githubusercontent.com/andre-marcos-perez/ebac-course-utils/main/media/logo/newebac_logo_black_half.png\" alt=\"ebac-logo\">\n",
        "\n",
        "---\n",
        "\n",
        "# **Módulo** | Análise de Dados: Data Wrangling II\n",
        "Caderno de **Exercícios**<br>\n",
        "Professor [André Perez](https://www.linkedin.com/in/andremarcosperez/)\n",
        "\n",
        "---"
      ]
    },
    {
      "cell_type": "markdown",
      "metadata": {
        "id": "d9jDtUbDOE1-"
      },
      "source": [
        "# **Tópicos**\n",
        "\n",
        "<ol type=\"1\">\n",
        "  <li>Agregação e Ordenação;</li>\n",
        "  <li>Combinação;</li>\n",
        "  <li>Técnicas Avançadas.</li>\n",
        "</ol>"
      ]
    },
    {
      "cell_type": "markdown",
      "metadata": {
        "id": "SmoHgt-lwkpD"
      },
      "source": [
        "---"
      ]
    },
    {
      "cell_type": "markdown",
      "metadata": {
        "id": "GABI6OW8OfQ2"
      },
      "source": [
        "# **Exercícios**"
      ]
    },
    {
      "cell_type": "markdown",
      "metadata": {
        "id": "45DbYPgFhuR7"
      },
      "source": [
        "Neste exercícios, vamos trabalhar com dados geográficos, demográficos e econômicos do Brasil. Vamos manipular e combinar dados de duas frentes distintas para poder responder perguntas de negócios."
      ]
    },
    {
      "cell_type": "markdown",
      "metadata": {
        "id": "GWgNoJN8DHyY"
      },
      "source": [
        "## 1\\. Data Wrangling"
      ]
    },
    {
      "cell_type": "markdown",
      "metadata": {
        "id": "E30KnCdKRdYl"
      },
      "source": [
        "### **1.1. Estados**"
      ]
    },
    {
      "cell_type": "markdown",
      "metadata": {
        "id": "w2q1apyNYHbu"
      },
      "source": [
        "O arquivo `estados-bruto.xml` contém informações sobre estados (nome, sigla e região). **Carregue-o na máquina virtual do Google Colab**. Um arquivo do tipo XML é similar a um arquivo do tipo HTML, exemplo do estado do Acre:"
      ]
    },
    {
      "cell_type": "markdown",
      "metadata": {
        "id": "GzjE2aEyYW5A"
      },
      "source": [
        "```xml\n",
        "<ESTADO>\n",
        "  <ID>1</ID>\n",
        "  <NOME>ACRE</NOME>\n",
        "  <IDCAPITAL>16</IDCAPITAL>\n",
        "  <SIGLA>AC</SIGLA>\n",
        "  <REGIAO>NORTE</REGIAO>\n",
        "</ESTADO>\n",
        "```"
      ]
    },
    {
      "cell_type": "markdown",
      "metadata": {
        "id": "7Mtk7Dd9UHqg"
      },
      "source": [
        "Utilize o pacote Python `beautifulsoup4` para extrair os dados do arquivo `estados-bruto.xml` providenciado. Salve os dados extraidos no arquivo `estados-limpo.csv` separado por `;`. Exemplo das três primeiras linhas mais o cabeçalho:\n",
        "\n",
        "```\n",
        "estado;sigla;regiao\n",
        "ACRE;AC;NORTE\n",
        "ALAGOAS;AL;NORDESTE\n",
        "AMAPA;AP;NORTE\n",
        "```\n",
        "\n",
        "**Dica**: Utilize o parser de xml chamado `lxml` do `beautifulsoup4`."
      ]
    },
    {
      "cell_type": "code",
      "execution_count": null,
      "metadata": {
        "colab": {
          "base_uri": "https://localhost:8080/"
        },
        "id": "kz0ZyYI0Sg6P",
        "outputId": "b43f5283-6fb8-416d-cceb-3fb5479ed84d"
      },
      "outputs": [
        {
          "name": "stdout",
          "output_type": "stream",
          "text": [
            "['ACRE', 'ALAGOAS', 'AMAPA', 'AMAZONAS', 'BAHIA', 'CEARA', 'DISTRITO FEDERAL', 'ESPIRITO SANTO', 'GOIAS', 'MARANHAO', 'MATO GROSSO', 'MATO GROSSO DO SUL', 'PARA', 'PARAIBA', 'PARANA', 'PERNAMBUCO', 'PIAUI', 'RIO DE JANEIRO', 'RIO GRANDE DO NORTE', 'RIO GRANDE DO SUL', 'RONDONIA', 'RORAIMA', 'SANTA CATARINA', 'SAO PAULO', 'SERGIPE', 'TOCANTINS', 'MINAS GERAIS']\n",
            "['AC', 'AL', 'AP', 'AM', 'BA', 'CE', 'DF', 'ES', 'GO', 'MA', 'MT', 'MS', 'PA', 'PB', 'PR', 'PE', 'PI', 'RJ', 'RN', 'RS', 'RO', 'RR', 'SC', 'SP', 'SE', 'TO', 'MG']\n",
            "['NORTE', 'NORDESTE', 'NORTE', 'NORTE', 'NORDESTE', 'NORDESTE', 'CENTRO-OESTE', 'SUDESTE', 'CENTRO-OESTE', 'NORDESTE', 'CENTRO-OESTE', 'CENTRO-OESTE', 'NORTE', 'NORDESTE', 'SUL', 'NORDESTE', 'NORDESTE', 'SUDESTE', 'NORDESTE', 'SUL', 'NORTE', 'NORTE', 'SUL', 'SUDESTE', 'NORDESTE', 'NORTE', 'SUDESTE']\n"
          ]
        },
        {
          "name": "stderr",
          "output_type": "stream",
          "text": [
            "<ipython-input-2-3a2e4a431085>:6: XMLParsedAsHTMLWarning: It looks like you're parsing an XML document using an HTML parser. If this really is an HTML document (maybe it's XHTML?), you can ignore or filter this warning. If it's XML, you should know that using an XML parser will be more reliable. To parse this document as XML, make sure you have the lxml package installed, and pass the keyword argument `features=\"xml\"` into the BeautifulSoup constructor.\n",
            "  fonte = BeautifulSoup(xml, \"lxml\")\n"
          ]
        }
      ],
      "source": [
        "# ler o arquivo estados-bruto.xml, utilize o xml parser chamado lxml\n",
        "from bs4 import BeautifulSoup\n",
        "\n",
        "NOME_ARQUIVO_FONTE = 'estados-bruto.xml'\n",
        "with open(NOME_ARQUIVO_FONTE) as xml:\n",
        "  fonte = BeautifulSoup(xml, \"lxml\")\n",
        "fonte\n",
        "\n",
        "estados = fonte.find_all(\"nome\")\n",
        "estados = [estado.string for estado in estados]\n",
        "siglas = fonte.find_all(\"sigla\")\n",
        "siglas = [sigla.string for sigla in siglas]\n",
        "regioes = fonte.find_all(\"regiao\")\n",
        "regioes = [regiao.string for regiao in regioes]\n",
        "print(estados)\n",
        "print(siglas)\n",
        "print(regioes)\n",
        "\n",
        "import pandas as pd\n",
        "NOME_ARQUIVO_DESTINO = 'estados-limpo.csv'\n",
        "estados_br = pd.DataFrame({\n",
        "  \"estado\": estados,\n",
        "  \"sigla\": siglas,\n",
        "  \"regiao\": regioes,\n",
        "})\n",
        "estados_br.to_csv(NOME_ARQUIVO_DESTINO, index=False, sep=\";\")\n"
      ]
    },
    {
      "cell_type": "markdown",
      "metadata": {
        "id": "Fq0xqYYSYq92"
      },
      "source": [
        "### **1.2. Cidades**"
      ]
    },
    {
      "cell_type": "markdown",
      "metadata": {
        "id": "eWRbjhOQYq93"
      },
      "source": [
        "O arquivo `cidades-bruto.csv` contém informações demográficas e socioeconomicas das cidades do Brasil. **Carregue-o na máquina virtual do Google Colab**. Utilize o pacote Python `pandas` para extrair os dados do arquivo `cidades-bruto.xml` providenciado. Seguindo as seguintes especificações:"
      ]
    },
    {
      "cell_type": "markdown",
      "metadata": {
        "id": "76zW8sMsbhEu"
      },
      "source": [
        "1. Apenas dados do censo de 2010;\n",
        "1. Apenas as colunas UF, Nome, PIB, Pop_est_2009 e PIB_percapita."
      ]
    },
    {
      "cell_type": "markdown",
      "metadata": {
        "id": "auiIxlw-blp8"
      },
      "source": [
        "Salve os dados extraidos no arquivo `cidades-limpo.csv` separado por `;`. Exemplo das três primeiras linhas mais o cabeçalho:\n",
        "\n",
        "```\n",
        "estado;cidade;populacao;pib;pib_percapita\n",
        "BAHIA;TREMEDAL;18433;57883.9921875;3140.23999023\n",
        "RIO GRANDE DO SUL;TURUÇU;4000;45723875;11430.96972656\n",
        "ESPIRITO SANTO;VITÓRIA;320156;19782628;61790.58984375\n",
        "```"
      ]
    },
    {
      "cell_type": "code",
      "execution_count": null,
      "metadata": {
        "colab": {
          "base_uri": "https://localhost:8080/",
          "height": 486
        },
        "id": "nBmWOkvzYq94",
        "outputId": "bac20acd-893d-4413-81d0-b339cff5d393"
      },
      "outputs": [
        {
          "name": "stdout",
          "output_type": "stream",
          "text": [
            "                                               FID   gid                 UF  \\\n",
            "0  vw_pib_percapita.fid-4514e25a_17aaa325034_-258f   215              BAHIA   \n",
            "1  vw_pib_percapita.fid-4514e25a_17aaa325034_-258e   306  RIO GRANDE DO SUL   \n",
            "2  vw_pib_percapita.fid-4514e25a_17aaa325034_-258d   900     ESPIRITO SANTO   \n",
            "3  vw_pib_percapita.fid-4514e25a_17aaa325034_-258c  3613       MINAS GERAIS   \n",
            "4  vw_pib_percapita.fid-4514e25a_17aaa325034_-258b  1028              PIAUÍ   \n",
            "\n",
            "        nome   Censo           PIB  Pop_est_2009  PIB_percapita  \\\n",
            "0   Tremedal  2010.0  5.788399e+04         18433    3140.239990   \n",
            "1     Turuçu  2010.0  4.572388e+04          4000   11430.969727   \n",
            "2    Vitória  2010.0  1.978263e+07        320156   61790.589844   \n",
            "3  Jacutinga  2010.0  2.478160e+05         21424   11567.209961   \n",
            "4    Nazária  2010.0  2.095138e+04          7895    2653.750000   \n",
            "\n",
            "                          Descrição               legenda  classe  \\\n",
            "0  Produto Interno Bruto per capita             - 9639.65       1   \n",
            "1  Produto Interno Bruto per capita    9639.65 - 22144.80       2   \n",
            "2  Produto Interno Bruto per capita  52702.10 - 133669.00       4   \n",
            "3  Produto Interno Bruto per capita    9639.65 - 22144.80       2   \n",
            "4  Produto Interno Bruto per capita             - 9639.65       1   \n",
            "\n",
            "                                                geom  \n",
            "0  MULTIPOLYGON (((-41.458803305191566 -14.781415...  \n",
            "1  MULTIPOLYGON (((-52.035349932081274 -31.567509...  \n",
            "2  MULTIPOLYGON (((-40.3292566978242 -20.23997417...  \n",
            "3  MULTIPOLYGON (((-46.50528160015326 -22.3400120...  \n",
            "4  POLYGON ((-42.826685407155495 -5.3480291684437...  \n"
          ]
        },
        {
          "data": {
            "application/javascript": "\n    async function download(id, filename, size) {\n      if (!google.colab.kernel.accessAllowed) {\n        return;\n      }\n      const div = document.createElement('div');\n      const label = document.createElement('label');\n      label.textContent = `Downloading \"${filename}\": `;\n      div.appendChild(label);\n      const progress = document.createElement('progress');\n      progress.max = size;\n      div.appendChild(progress);\n      document.body.appendChild(div);\n\n      const buffers = [];\n      let downloaded = 0;\n\n      const channel = await google.colab.kernel.comms.open(id);\n      // Send a message to notify the kernel that we're ready.\n      channel.send({})\n\n      for await (const message of channel.messages) {\n        // Send a message to notify the kernel that we're ready.\n        channel.send({})\n        if (message.buffers) {\n          for (const buffer of message.buffers) {\n            buffers.push(buffer);\n            downloaded += buffer.byteLength;\n            progress.value = downloaded;\n          }\n        }\n      }\n      const blob = new Blob(buffers, {type: 'application/binary'});\n      const a = document.createElement('a');\n      a.href = window.URL.createObjectURL(blob);\n      a.download = filename;\n      div.appendChild(a);\n      a.click();\n      div.remove();\n    }\n  ",
            "text/plain": [
              "<IPython.core.display.Javascript object>"
            ]
          },
          "metadata": {},
          "output_type": "display_data"
        },
        {
          "data": {
            "application/javascript": "download(\"download_3280034d-d4ea-4b93-a0d9-2e5b8403f1bf\", \"cidades-limpo.csv\", 317865)",
            "text/plain": [
              "<IPython.core.display.Javascript object>"
            ]
          },
          "metadata": {},
          "output_type": "display_data"
        }
      ],
      "source": [
        "# ler o arquivo cidades-bruto.csv\n",
        "\n",
        "import pandas as pd\n",
        "from google.colab import files\n",
        "\n",
        "df = pd.read_csv('cidades-bruto.csv', encoding='utf-8')\n",
        "\n",
        "df_2010 = df[df['Censo'] == 2010]\n",
        "\n",
        "print(df_2010.head())\n",
        "\n",
        "df_filtered = df_2010[['UF', 'nome', 'Pop_est_2009', 'PIB', 'PIB_percapita']]\n",
        "\n",
        "df_filtered.columns = ['estado', 'cidade', 'populacao', 'pib', 'pib_percapita']\n",
        "\n",
        "df_filtered.to_csv('cidades-limpo.csv', sep=';', index=False)\n",
        "\n",
        "files.download('cidades-limpo.csv')"
      ]
    },
    {
      "cell_type": "markdown",
      "metadata": {
        "id": "EBzoHVD8b_c7"
      },
      "source": [
        "### **1.3. Brasil**"
      ]
    },
    {
      "cell_type": "markdown",
      "metadata": {
        "id": "Ft6l5bDwb_c7"
      },
      "source": [
        "Utilize o pacote Python `pandas` para combinar os dados do arquivo `estados-limpo.csv` com os dados do arquivo `cidades-limpo.csv` em um único dataframe. Escolha a coluna e o método de combinação de tal forma que **não haja perda de dados** no processo (não produzirá valores nulos `NaN`). Salve os dados do dataframe no arquivo `brasil.csv`"
      ]
    },
    {
      "cell_type": "code",
      "execution_count": null,
      "metadata": {
        "colab": {
          "base_uri": "https://localhost:8080/",
          "height": 206
        },
        "id": "Vz3J7G4-dBXa",
        "outputId": "a9335f89-2dc3-4d7c-9dad-7051576ba8cf"
      },
      "outputs": [
        {
          "data": {
            "application/vnd.google.colaboratory.intrinsic+json": {
              "summary": "{\n  \"name\": \"estados_df\",\n  \"rows\": 27,\n  \"fields\": [\n    {\n      \"column\": \"estado\",\n      \"properties\": {\n        \"dtype\": \"string\",\n        \"num_unique_values\": 27,\n        \"samples\": [\n          \"GOIAS\",\n          \"PARAIBA\",\n          \"MARANHAO\"\n        ],\n        \"semantic_type\": \"\",\n        \"description\": \"\"\n      }\n    },\n    {\n      \"column\": \"sigla\",\n      \"properties\": {\n        \"dtype\": \"string\",\n        \"num_unique_values\": 27,\n        \"samples\": [\n          \"GO\",\n          \"PB\",\n          \"MA\"\n        ],\n        \"semantic_type\": \"\",\n        \"description\": \"\"\n      }\n    },\n    {\n      \"column\": \"regiao\",\n      \"properties\": {\n        \"dtype\": \"category\",\n        \"num_unique_values\": 5,\n        \"samples\": [\n          \"NORDESTE\",\n          \"SUL\",\n          \"CENTRO-OESTE\"\n        ],\n        \"semantic_type\": \"\",\n        \"description\": \"\"\n      }\n    }\n  ]\n}",
              "type": "dataframe",
              "variable_name": "estados_df"
            },
            "text/html": [
              "\n",
              "  <div id=\"df-57bcc0db-1b0d-4d87-9cb2-45a17b648793\" class=\"colab-df-container\">\n",
              "    <div>\n",
              "<style scoped>\n",
              "    .dataframe tbody tr th:only-of-type {\n",
              "        vertical-align: middle;\n",
              "    }\n",
              "\n",
              "    .dataframe tbody tr th {\n",
              "        vertical-align: top;\n",
              "    }\n",
              "\n",
              "    .dataframe thead th {\n",
              "        text-align: right;\n",
              "    }\n",
              "</style>\n",
              "<table border=\"1\" class=\"dataframe\">\n",
              "  <thead>\n",
              "    <tr style=\"text-align: right;\">\n",
              "      <th></th>\n",
              "      <th>estado</th>\n",
              "      <th>sigla</th>\n",
              "      <th>regiao</th>\n",
              "    </tr>\n",
              "  </thead>\n",
              "  <tbody>\n",
              "    <tr>\n",
              "      <th>0</th>\n",
              "      <td>ACRE</td>\n",
              "      <td>AC</td>\n",
              "      <td>NORTE</td>\n",
              "    </tr>\n",
              "    <tr>\n",
              "      <th>1</th>\n",
              "      <td>ALAGOAS</td>\n",
              "      <td>AL</td>\n",
              "      <td>NORDESTE</td>\n",
              "    </tr>\n",
              "    <tr>\n",
              "      <th>2</th>\n",
              "      <td>AMAPA</td>\n",
              "      <td>AP</td>\n",
              "      <td>NORTE</td>\n",
              "    </tr>\n",
              "    <tr>\n",
              "      <th>3</th>\n",
              "      <td>AMAZONAS</td>\n",
              "      <td>AM</td>\n",
              "      <td>NORTE</td>\n",
              "    </tr>\n",
              "    <tr>\n",
              "      <th>4</th>\n",
              "      <td>BAHIA</td>\n",
              "      <td>BA</td>\n",
              "      <td>NORDESTE</td>\n",
              "    </tr>\n",
              "  </tbody>\n",
              "</table>\n",
              "</div>\n",
              "    <div class=\"colab-df-buttons\">\n",
              "\n",
              "  <div class=\"colab-df-container\">\n",
              "    <button class=\"colab-df-convert\" onclick=\"convertToInteractive('df-57bcc0db-1b0d-4d87-9cb2-45a17b648793')\"\n",
              "            title=\"Convert this dataframe to an interactive table.\"\n",
              "            style=\"display:none;\">\n",
              "\n",
              "  <svg xmlns=\"http://www.w3.org/2000/svg\" height=\"24px\" viewBox=\"0 -960 960 960\">\n",
              "    <path d=\"M120-120v-720h720v720H120Zm60-500h600v-160H180v160Zm220 220h160v-160H400v160Zm0 220h160v-160H400v160ZM180-400h160v-160H180v160Zm440 0h160v-160H620v160ZM180-180h160v-160H180v160Zm440 0h160v-160H620v160Z\"/>\n",
              "  </svg>\n",
              "    </button>\n",
              "\n",
              "  <style>\n",
              "    .colab-df-container {\n",
              "      display:flex;\n",
              "      gap: 12px;\n",
              "    }\n",
              "\n",
              "    .colab-df-convert {\n",
              "      background-color: #E8F0FE;\n",
              "      border: none;\n",
              "      border-radius: 50%;\n",
              "      cursor: pointer;\n",
              "      display: none;\n",
              "      fill: #1967D2;\n",
              "      height: 32px;\n",
              "      padding: 0 0 0 0;\n",
              "      width: 32px;\n",
              "    }\n",
              "\n",
              "    .colab-df-convert:hover {\n",
              "      background-color: #E2EBFA;\n",
              "      box-shadow: 0px 1px 2px rgba(60, 64, 67, 0.3), 0px 1px 3px 1px rgba(60, 64, 67, 0.15);\n",
              "      fill: #174EA6;\n",
              "    }\n",
              "\n",
              "    .colab-df-buttons div {\n",
              "      margin-bottom: 4px;\n",
              "    }\n",
              "\n",
              "    [theme=dark] .colab-df-convert {\n",
              "      background-color: #3B4455;\n",
              "      fill: #D2E3FC;\n",
              "    }\n",
              "\n",
              "    [theme=dark] .colab-df-convert:hover {\n",
              "      background-color: #434B5C;\n",
              "      box-shadow: 0px 1px 3px 1px rgba(0, 0, 0, 0.15);\n",
              "      filter: drop-shadow(0px 1px 2px rgba(0, 0, 0, 0.3));\n",
              "      fill: #FFFFFF;\n",
              "    }\n",
              "  </style>\n",
              "\n",
              "    <script>\n",
              "      const buttonEl =\n",
              "        document.querySelector('#df-57bcc0db-1b0d-4d87-9cb2-45a17b648793 button.colab-df-convert');\n",
              "      buttonEl.style.display =\n",
              "        google.colab.kernel.accessAllowed ? 'block' : 'none';\n",
              "\n",
              "      async function convertToInteractive(key) {\n",
              "        const element = document.querySelector('#df-57bcc0db-1b0d-4d87-9cb2-45a17b648793');\n",
              "        const dataTable =\n",
              "          await google.colab.kernel.invokeFunction('convertToInteractive',\n",
              "                                                    [key], {});\n",
              "        if (!dataTable) return;\n",
              "\n",
              "        const docLinkHtml = 'Like what you see? Visit the ' +\n",
              "          '<a target=\"_blank\" href=https://colab.research.google.com/notebooks/data_table.ipynb>data table notebook</a>'\n",
              "          + ' to learn more about interactive tables.';\n",
              "        element.innerHTML = '';\n",
              "        dataTable['output_type'] = 'display_data';\n",
              "        await google.colab.output.renderOutput(dataTable, element);\n",
              "        const docLink = document.createElement('div');\n",
              "        docLink.innerHTML = docLinkHtml;\n",
              "        element.appendChild(docLink);\n",
              "      }\n",
              "    </script>\n",
              "  </div>\n",
              "\n",
              "\n",
              "<div id=\"df-c80eac93-0224-4fca-a0fa-ee57ba0e493f\">\n",
              "  <button class=\"colab-df-quickchart\" onclick=\"quickchart('df-c80eac93-0224-4fca-a0fa-ee57ba0e493f')\"\n",
              "            title=\"Suggest charts\"\n",
              "            style=\"display:none;\">\n",
              "\n",
              "<svg xmlns=\"http://www.w3.org/2000/svg\" height=\"24px\"viewBox=\"0 0 24 24\"\n",
              "     width=\"24px\">\n",
              "    <g>\n",
              "        <path d=\"M19 3H5c-1.1 0-2 .9-2 2v14c0 1.1.9 2 2 2h14c1.1 0 2-.9 2-2V5c0-1.1-.9-2-2-2zM9 17H7v-7h2v7zm4 0h-2V7h2v10zm4 0h-2v-4h2v4z\"/>\n",
              "    </g>\n",
              "</svg>\n",
              "  </button>\n",
              "\n",
              "<style>\n",
              "  .colab-df-quickchart {\n",
              "      --bg-color: #E8F0FE;\n",
              "      --fill-color: #1967D2;\n",
              "      --hover-bg-color: #E2EBFA;\n",
              "      --hover-fill-color: #174EA6;\n",
              "      --disabled-fill-color: #AAA;\n",
              "      --disabled-bg-color: #DDD;\n",
              "  }\n",
              "\n",
              "  [theme=dark] .colab-df-quickchart {\n",
              "      --bg-color: #3B4455;\n",
              "      --fill-color: #D2E3FC;\n",
              "      --hover-bg-color: #434B5C;\n",
              "      --hover-fill-color: #FFFFFF;\n",
              "      --disabled-bg-color: #3B4455;\n",
              "      --disabled-fill-color: #666;\n",
              "  }\n",
              "\n",
              "  .colab-df-quickchart {\n",
              "    background-color: var(--bg-color);\n",
              "    border: none;\n",
              "    border-radius: 50%;\n",
              "    cursor: pointer;\n",
              "    display: none;\n",
              "    fill: var(--fill-color);\n",
              "    height: 32px;\n",
              "    padding: 0;\n",
              "    width: 32px;\n",
              "  }\n",
              "\n",
              "  .colab-df-quickchart:hover {\n",
              "    background-color: var(--hover-bg-color);\n",
              "    box-shadow: 0 1px 2px rgba(60, 64, 67, 0.3), 0 1px 3px 1px rgba(60, 64, 67, 0.15);\n",
              "    fill: var(--button-hover-fill-color);\n",
              "  }\n",
              "\n",
              "  .colab-df-quickchart-complete:disabled,\n",
              "  .colab-df-quickchart-complete:disabled:hover {\n",
              "    background-color: var(--disabled-bg-color);\n",
              "    fill: var(--disabled-fill-color);\n",
              "    box-shadow: none;\n",
              "  }\n",
              "\n",
              "  .colab-df-spinner {\n",
              "    border: 2px solid var(--fill-color);\n",
              "    border-color: transparent;\n",
              "    border-bottom-color: var(--fill-color);\n",
              "    animation:\n",
              "      spin 1s steps(1) infinite;\n",
              "  }\n",
              "\n",
              "  @keyframes spin {\n",
              "    0% {\n",
              "      border-color: transparent;\n",
              "      border-bottom-color: var(--fill-color);\n",
              "      border-left-color: var(--fill-color);\n",
              "    }\n",
              "    20% {\n",
              "      border-color: transparent;\n",
              "      border-left-color: var(--fill-color);\n",
              "      border-top-color: var(--fill-color);\n",
              "    }\n",
              "    30% {\n",
              "      border-color: transparent;\n",
              "      border-left-color: var(--fill-color);\n",
              "      border-top-color: var(--fill-color);\n",
              "      border-right-color: var(--fill-color);\n",
              "    }\n",
              "    40% {\n",
              "      border-color: transparent;\n",
              "      border-right-color: var(--fill-color);\n",
              "      border-top-color: var(--fill-color);\n",
              "    }\n",
              "    60% {\n",
              "      border-color: transparent;\n",
              "      border-right-color: var(--fill-color);\n",
              "    }\n",
              "    80% {\n",
              "      border-color: transparent;\n",
              "      border-right-color: var(--fill-color);\n",
              "      border-bottom-color: var(--fill-color);\n",
              "    }\n",
              "    90% {\n",
              "      border-color: transparent;\n",
              "      border-bottom-color: var(--fill-color);\n",
              "    }\n",
              "  }\n",
              "</style>\n",
              "\n",
              "  <script>\n",
              "    async function quickchart(key) {\n",
              "      const quickchartButtonEl =\n",
              "        document.querySelector('#' + key + ' button');\n",
              "      quickchartButtonEl.disabled = true;  // To prevent multiple clicks.\n",
              "      quickchartButtonEl.classList.add('colab-df-spinner');\n",
              "      try {\n",
              "        const charts = await google.colab.kernel.invokeFunction(\n",
              "            'suggestCharts', [key], {});\n",
              "      } catch (error) {\n",
              "        console.error('Error during call to suggestCharts:', error);\n",
              "      }\n",
              "      quickchartButtonEl.classList.remove('colab-df-spinner');\n",
              "      quickchartButtonEl.classList.add('colab-df-quickchart-complete');\n",
              "    }\n",
              "    (() => {\n",
              "      let quickchartButtonEl =\n",
              "        document.querySelector('#df-c80eac93-0224-4fca-a0fa-ee57ba0e493f button');\n",
              "      quickchartButtonEl.style.display =\n",
              "        google.colab.kernel.accessAllowed ? 'block' : 'none';\n",
              "    })();\n",
              "  </script>\n",
              "</div>\n",
              "\n",
              "    </div>\n",
              "  </div>\n"
            ],
            "text/plain": [
              "     estado sigla    regiao\n",
              "0      ACRE    AC     NORTE\n",
              "1   ALAGOAS    AL  NORDESTE\n",
              "2     AMAPA    AP     NORTE\n",
              "3  AMAZONAS    AM     NORTE\n",
              "4     BAHIA    BA  NORDESTE"
            ]
          },
          "execution_count": 24,
          "metadata": {},
          "output_type": "execute_result"
        }
      ],
      "source": [
        "import pandas as pd\n",
        "\n",
        "estados_df = pd.read_csv('estados-limpo.csv', sep=';')\n",
        "cidades_df = pd.read_csv('cidades-limpo.csv', sep=';')\n",
        "\n",
        "estados_df.head()"
      ]
    },
    {
      "cell_type": "code",
      "execution_count": null,
      "metadata": {
        "colab": {
          "base_uri": "https://localhost:8080/"
        },
        "id": "xuUS4g_idi-Q",
        "outputId": "92dc4861-0d90-41a7-81aa-e2092ea41b3b"
      },
      "outputs": [
        {
          "data": {
            "text/plain": [
              "(27, 3)"
            ]
          },
          "execution_count": 25,
          "metadata": {},
          "output_type": "execute_result"
        }
      ],
      "source": [
        "estados_df.shape"
      ]
    },
    {
      "cell_type": "code",
      "execution_count": null,
      "metadata": {
        "colab": {
          "base_uri": "https://localhost:8080/",
          "height": 206
        },
        "id": "VzNCJf4idraK",
        "outputId": "705ec4ef-ac4b-4f2b-9e6e-46ec7618a919"
      },
      "outputs": [
        {
          "data": {
            "application/vnd.google.colaboratory.intrinsic+json": {
              "summary": "{\n  \"name\": \"cidades_df\",\n  \"rows\": 5555,\n  \"fields\": [\n    {\n      \"column\": \"estado\",\n      \"properties\": {\n        \"dtype\": \"category\",\n        \"num_unique_values\": 27,\n        \"samples\": [\n          \"SERGIPE\",\n          \"SANTA CATARINA\",\n          \"S\\u00c3O PAULO\"\n        ],\n        \"semantic_type\": \"\",\n        \"description\": \"\"\n      }\n    },\n    {\n      \"column\": \"cidade\",\n      \"properties\": {\n        \"dtype\": \"string\",\n        \"num_unique_values\": 5285,\n        \"samples\": [\n          \"Sete Quedas\",\n          \"Orob\\u00f3\",\n          \"Pinh\\u00e3o\"\n        ],\n        \"semantic_type\": \"\",\n        \"description\": \"\"\n      }\n    },\n    {\n      \"column\": \"populacao\",\n      \"properties\": {\n        \"dtype\": \"number\",\n        \"std\": 201982,\n        \"min\": 837,\n        \"max\": 11037593,\n        \"num_unique_values\": 5067,\n        \"samples\": [\n          40030,\n          13439,\n          4984\n        ],\n        \"semantic_type\": \"\",\n        \"description\": \"\"\n      }\n    },\n    {\n      \"column\": \"pib\",\n      \"properties\": {\n        \"dtype\": \"number\",\n        \"std\": 6352059.662058851,\n        \"min\": 5770.28222656,\n        \"max\": 389317152.0,\n        \"num_unique_values\": 5554,\n        \"samples\": [\n          237517.859375,\n          63773.171875,\n          29764.57421875\n        ],\n        \"semantic_type\": \"\",\n        \"description\": \"\"\n      }\n    },\n    {\n      \"column\": \"pib_percapita\",\n      \"properties\": {\n        \"dtype\": \"number\",\n        \"std\": 12159.333812744444,\n        \"min\": 1929.9699707,\n        \"max\": 360815.84375,\n        \"num_unique_values\": 5544,\n        \"samples\": [\n          3317.84008789,\n          3636.88989258,\n          10641.13964844\n        ],\n        \"semantic_type\": \"\",\n        \"description\": \"\"\n      }\n    }\n  ]\n}",
              "type": "dataframe",
              "variable_name": "cidades_df"
            },
            "text/html": [
              "\n",
              "  <div id=\"df-8f4fa94a-a67c-4982-85c0-22c759369365\" class=\"colab-df-container\">\n",
              "    <div>\n",
              "<style scoped>\n",
              "    .dataframe tbody tr th:only-of-type {\n",
              "        vertical-align: middle;\n",
              "    }\n",
              "\n",
              "    .dataframe tbody tr th {\n",
              "        vertical-align: top;\n",
              "    }\n",
              "\n",
              "    .dataframe thead th {\n",
              "        text-align: right;\n",
              "    }\n",
              "</style>\n",
              "<table border=\"1\" class=\"dataframe\">\n",
              "  <thead>\n",
              "    <tr style=\"text-align: right;\">\n",
              "      <th></th>\n",
              "      <th>estado</th>\n",
              "      <th>cidade</th>\n",
              "      <th>populacao</th>\n",
              "      <th>pib</th>\n",
              "      <th>pib_percapita</th>\n",
              "    </tr>\n",
              "  </thead>\n",
              "  <tbody>\n",
              "    <tr>\n",
              "      <th>0</th>\n",
              "      <td>BAHIA</td>\n",
              "      <td>Tremedal</td>\n",
              "      <td>18433</td>\n",
              "      <td>5.788399e+04</td>\n",
              "      <td>3140.239990</td>\n",
              "    </tr>\n",
              "    <tr>\n",
              "      <th>1</th>\n",
              "      <td>RIO GRANDE DO SUL</td>\n",
              "      <td>Turuçu</td>\n",
              "      <td>4000</td>\n",
              "      <td>4.572388e+04</td>\n",
              "      <td>11430.969727</td>\n",
              "    </tr>\n",
              "    <tr>\n",
              "      <th>2</th>\n",
              "      <td>ESPIRITO SANTO</td>\n",
              "      <td>Vitória</td>\n",
              "      <td>320156</td>\n",
              "      <td>1.978263e+07</td>\n",
              "      <td>61790.589844</td>\n",
              "    </tr>\n",
              "    <tr>\n",
              "      <th>3</th>\n",
              "      <td>MINAS GERAIS</td>\n",
              "      <td>Jacutinga</td>\n",
              "      <td>21424</td>\n",
              "      <td>2.478160e+05</td>\n",
              "      <td>11567.209961</td>\n",
              "    </tr>\n",
              "    <tr>\n",
              "      <th>4</th>\n",
              "      <td>PIAUÍ</td>\n",
              "      <td>Nazária</td>\n",
              "      <td>7895</td>\n",
              "      <td>2.095138e+04</td>\n",
              "      <td>2653.750000</td>\n",
              "    </tr>\n",
              "  </tbody>\n",
              "</table>\n",
              "</div>\n",
              "    <div class=\"colab-df-buttons\">\n",
              "\n",
              "  <div class=\"colab-df-container\">\n",
              "    <button class=\"colab-df-convert\" onclick=\"convertToInteractive('df-8f4fa94a-a67c-4982-85c0-22c759369365')\"\n",
              "            title=\"Convert this dataframe to an interactive table.\"\n",
              "            style=\"display:none;\">\n",
              "\n",
              "  <svg xmlns=\"http://www.w3.org/2000/svg\" height=\"24px\" viewBox=\"0 -960 960 960\">\n",
              "    <path d=\"M120-120v-720h720v720H120Zm60-500h600v-160H180v160Zm220 220h160v-160H400v160Zm0 220h160v-160H400v160ZM180-400h160v-160H180v160Zm440 0h160v-160H620v160ZM180-180h160v-160H180v160Zm440 0h160v-160H620v160Z\"/>\n",
              "  </svg>\n",
              "    </button>\n",
              "\n",
              "  <style>\n",
              "    .colab-df-container {\n",
              "      display:flex;\n",
              "      gap: 12px;\n",
              "    }\n",
              "\n",
              "    .colab-df-convert {\n",
              "      background-color: #E8F0FE;\n",
              "      border: none;\n",
              "      border-radius: 50%;\n",
              "      cursor: pointer;\n",
              "      display: none;\n",
              "      fill: #1967D2;\n",
              "      height: 32px;\n",
              "      padding: 0 0 0 0;\n",
              "      width: 32px;\n",
              "    }\n",
              "\n",
              "    .colab-df-convert:hover {\n",
              "      background-color: #E2EBFA;\n",
              "      box-shadow: 0px 1px 2px rgba(60, 64, 67, 0.3), 0px 1px 3px 1px rgba(60, 64, 67, 0.15);\n",
              "      fill: #174EA6;\n",
              "    }\n",
              "\n",
              "    .colab-df-buttons div {\n",
              "      margin-bottom: 4px;\n",
              "    }\n",
              "\n",
              "    [theme=dark] .colab-df-convert {\n",
              "      background-color: #3B4455;\n",
              "      fill: #D2E3FC;\n",
              "    }\n",
              "\n",
              "    [theme=dark] .colab-df-convert:hover {\n",
              "      background-color: #434B5C;\n",
              "      box-shadow: 0px 1px 3px 1px rgba(0, 0, 0, 0.15);\n",
              "      filter: drop-shadow(0px 1px 2px rgba(0, 0, 0, 0.3));\n",
              "      fill: #FFFFFF;\n",
              "    }\n",
              "  </style>\n",
              "\n",
              "    <script>\n",
              "      const buttonEl =\n",
              "        document.querySelector('#df-8f4fa94a-a67c-4982-85c0-22c759369365 button.colab-df-convert');\n",
              "      buttonEl.style.display =\n",
              "        google.colab.kernel.accessAllowed ? 'block' : 'none';\n",
              "\n",
              "      async function convertToInteractive(key) {\n",
              "        const element = document.querySelector('#df-8f4fa94a-a67c-4982-85c0-22c759369365');\n",
              "        const dataTable =\n",
              "          await google.colab.kernel.invokeFunction('convertToInteractive',\n",
              "                                                    [key], {});\n",
              "        if (!dataTable) return;\n",
              "\n",
              "        const docLinkHtml = 'Like what you see? Visit the ' +\n",
              "          '<a target=\"_blank\" href=https://colab.research.google.com/notebooks/data_table.ipynb>data table notebook</a>'\n",
              "          + ' to learn more about interactive tables.';\n",
              "        element.innerHTML = '';\n",
              "        dataTable['output_type'] = 'display_data';\n",
              "        await google.colab.output.renderOutput(dataTable, element);\n",
              "        const docLink = document.createElement('div');\n",
              "        docLink.innerHTML = docLinkHtml;\n",
              "        element.appendChild(docLink);\n",
              "      }\n",
              "    </script>\n",
              "  </div>\n",
              "\n",
              "\n",
              "<div id=\"df-b106485a-b90b-4328-8387-e1ff85e9af1a\">\n",
              "  <button class=\"colab-df-quickchart\" onclick=\"quickchart('df-b106485a-b90b-4328-8387-e1ff85e9af1a')\"\n",
              "            title=\"Suggest charts\"\n",
              "            style=\"display:none;\">\n",
              "\n",
              "<svg xmlns=\"http://www.w3.org/2000/svg\" height=\"24px\"viewBox=\"0 0 24 24\"\n",
              "     width=\"24px\">\n",
              "    <g>\n",
              "        <path d=\"M19 3H5c-1.1 0-2 .9-2 2v14c0 1.1.9 2 2 2h14c1.1 0 2-.9 2-2V5c0-1.1-.9-2-2-2zM9 17H7v-7h2v7zm4 0h-2V7h2v10zm4 0h-2v-4h2v4z\"/>\n",
              "    </g>\n",
              "</svg>\n",
              "  </button>\n",
              "\n",
              "<style>\n",
              "  .colab-df-quickchart {\n",
              "      --bg-color: #E8F0FE;\n",
              "      --fill-color: #1967D2;\n",
              "      --hover-bg-color: #E2EBFA;\n",
              "      --hover-fill-color: #174EA6;\n",
              "      --disabled-fill-color: #AAA;\n",
              "      --disabled-bg-color: #DDD;\n",
              "  }\n",
              "\n",
              "  [theme=dark] .colab-df-quickchart {\n",
              "      --bg-color: #3B4455;\n",
              "      --fill-color: #D2E3FC;\n",
              "      --hover-bg-color: #434B5C;\n",
              "      --hover-fill-color: #FFFFFF;\n",
              "      --disabled-bg-color: #3B4455;\n",
              "      --disabled-fill-color: #666;\n",
              "  }\n",
              "\n",
              "  .colab-df-quickchart {\n",
              "    background-color: var(--bg-color);\n",
              "    border: none;\n",
              "    border-radius: 50%;\n",
              "    cursor: pointer;\n",
              "    display: none;\n",
              "    fill: var(--fill-color);\n",
              "    height: 32px;\n",
              "    padding: 0;\n",
              "    width: 32px;\n",
              "  }\n",
              "\n",
              "  .colab-df-quickchart:hover {\n",
              "    background-color: var(--hover-bg-color);\n",
              "    box-shadow: 0 1px 2px rgba(60, 64, 67, 0.3), 0 1px 3px 1px rgba(60, 64, 67, 0.15);\n",
              "    fill: var(--button-hover-fill-color);\n",
              "  }\n",
              "\n",
              "  .colab-df-quickchart-complete:disabled,\n",
              "  .colab-df-quickchart-complete:disabled:hover {\n",
              "    background-color: var(--disabled-bg-color);\n",
              "    fill: var(--disabled-fill-color);\n",
              "    box-shadow: none;\n",
              "  }\n",
              "\n",
              "  .colab-df-spinner {\n",
              "    border: 2px solid var(--fill-color);\n",
              "    border-color: transparent;\n",
              "    border-bottom-color: var(--fill-color);\n",
              "    animation:\n",
              "      spin 1s steps(1) infinite;\n",
              "  }\n",
              "\n",
              "  @keyframes spin {\n",
              "    0% {\n",
              "      border-color: transparent;\n",
              "      border-bottom-color: var(--fill-color);\n",
              "      border-left-color: var(--fill-color);\n",
              "    }\n",
              "    20% {\n",
              "      border-color: transparent;\n",
              "      border-left-color: var(--fill-color);\n",
              "      border-top-color: var(--fill-color);\n",
              "    }\n",
              "    30% {\n",
              "      border-color: transparent;\n",
              "      border-left-color: var(--fill-color);\n",
              "      border-top-color: var(--fill-color);\n",
              "      border-right-color: var(--fill-color);\n",
              "    }\n",
              "    40% {\n",
              "      border-color: transparent;\n",
              "      border-right-color: var(--fill-color);\n",
              "      border-top-color: var(--fill-color);\n",
              "    }\n",
              "    60% {\n",
              "      border-color: transparent;\n",
              "      border-right-color: var(--fill-color);\n",
              "    }\n",
              "    80% {\n",
              "      border-color: transparent;\n",
              "      border-right-color: var(--fill-color);\n",
              "      border-bottom-color: var(--fill-color);\n",
              "    }\n",
              "    90% {\n",
              "      border-color: transparent;\n",
              "      border-bottom-color: var(--fill-color);\n",
              "    }\n",
              "  }\n",
              "</style>\n",
              "\n",
              "  <script>\n",
              "    async function quickchart(key) {\n",
              "      const quickchartButtonEl =\n",
              "        document.querySelector('#' + key + ' button');\n",
              "      quickchartButtonEl.disabled = true;  // To prevent multiple clicks.\n",
              "      quickchartButtonEl.classList.add('colab-df-spinner');\n",
              "      try {\n",
              "        const charts = await google.colab.kernel.invokeFunction(\n",
              "            'suggestCharts', [key], {});\n",
              "      } catch (error) {\n",
              "        console.error('Error during call to suggestCharts:', error);\n",
              "      }\n",
              "      quickchartButtonEl.classList.remove('colab-df-spinner');\n",
              "      quickchartButtonEl.classList.add('colab-df-quickchart-complete');\n",
              "    }\n",
              "    (() => {\n",
              "      let quickchartButtonEl =\n",
              "        document.querySelector('#df-b106485a-b90b-4328-8387-e1ff85e9af1a button');\n",
              "      quickchartButtonEl.style.display =\n",
              "        google.colab.kernel.accessAllowed ? 'block' : 'none';\n",
              "    })();\n",
              "  </script>\n",
              "</div>\n",
              "\n",
              "    </div>\n",
              "  </div>\n"
            ],
            "text/plain": [
              "              estado     cidade  populacao           pib  pib_percapita\n",
              "0              BAHIA   Tremedal      18433  5.788399e+04    3140.239990\n",
              "1  RIO GRANDE DO SUL     Turuçu       4000  4.572388e+04   11430.969727\n",
              "2     ESPIRITO SANTO    Vitória     320156  1.978263e+07   61790.589844\n",
              "3       MINAS GERAIS  Jacutinga      21424  2.478160e+05   11567.209961\n",
              "4              PIAUÍ    Nazária       7895  2.095138e+04    2653.750000"
            ]
          },
          "execution_count": 26,
          "metadata": {},
          "output_type": "execute_result"
        }
      ],
      "source": [
        "cidades_df.head()"
      ]
    },
    {
      "cell_type": "code",
      "execution_count": null,
      "metadata": {
        "colab": {
          "base_uri": "https://localhost:8080/"
        },
        "id": "1Iw6wMDWdu9W",
        "outputId": "fd15e40f-0904-4451-b5fd-1e5bbab0065a"
      },
      "outputs": [
        {
          "data": {
            "text/plain": [
              "(5555, 5)"
            ]
          },
          "execution_count": 27,
          "metadata": {},
          "output_type": "execute_result"
        }
      ],
      "source": [
        "cidades_df.shape"
      ]
    },
    {
      "cell_type": "code",
      "execution_count": null,
      "metadata": {
        "colab": {
          "base_uri": "https://localhost:8080/"
        },
        "id": "-QyS134jd1mv",
        "outputId": "7257456a-4dc3-47f2-9ddd-5d8d132afbd5"
      },
      "outputs": [
        {
          "data": {
            "text/plain": [
              "array(['ACRE', 'ALAGOAS', 'AMAPA', 'AMAZONAS', 'BAHIA', 'CEARA',\n",
              "       'DISTRITO FEDERAL', 'ESPIRITO SANTO', 'GOIAS', 'MARANHAO',\n",
              "       'MATO GROSSO', 'MATO GROSSO DO SUL', 'PARA', 'PARAIBA', 'PARANA',\n",
              "       'PERNAMBUCO', 'PIAUI', 'RIO DE JANEIRO', 'RIO GRANDE DO NORTE',\n",
              "       'RIO GRANDE DO SUL', 'RONDONIA', 'RORAIMA', 'SANTA CATARINA',\n",
              "       'SAO PAULO', 'SERGIPE', 'TOCANTINS', 'MINAS GERAIS'], dtype=object)"
            ]
          },
          "execution_count": 28,
          "metadata": {},
          "output_type": "execute_result"
        }
      ],
      "source": [
        "estados_df['estado'].unique()"
      ]
    },
    {
      "cell_type": "code",
      "execution_count": null,
      "metadata": {
        "colab": {
          "base_uri": "https://localhost:8080/"
        },
        "id": "Fm36Fp1Mer7O",
        "outputId": "a1b08a70-d132-401f-e705-c18822b68d7b"
      },
      "outputs": [
        {
          "data": {
            "text/plain": [
              "array(['BAHIA', 'RIO GRANDE DO SUL', 'ESPIRITO SANTO', 'MINAS GERAIS',\n",
              "       'PIAUÍ', 'GOIÁS', 'PERNAMBUCO', 'PARÁ', 'SERGIPE', 'SÃO PAULO',\n",
              "       'PARAÍBA', 'TOCANTINS', 'AMAZONAS', 'SANTA CATARINA', 'CEARÁ',\n",
              "       'RORAIMA', 'MARANHÃO', 'RIO DE JANEIRO', 'MATO GROSSO', 'PARANÁ',\n",
              "       'ALAGOAS', 'MATO GROSSO DO SUL', 'ACRE', 'RIO GRANDE DO NORTE',\n",
              "       'RONDÔNIA', 'AMAPÁ', 'DISTRITO FEDERAL'], dtype=object)"
            ]
          },
          "execution_count": 29,
          "metadata": {},
          "output_type": "execute_result"
        }
      ],
      "source": [
        "cidades_df['estado'].unique()"
      ]
    },
    {
      "cell_type": "code",
      "execution_count": null,
      "metadata": {
        "id": "c_uE4iwFkc69"
      },
      "outputs": [],
      "source": [
        "cidades_df['estado']= cidades_df['estado'].replace(['são paulo'],['sao paulo'])\n",
        "cidades_df['estado']= cidades_df['estado'].replace(['amapá'],['amapa'])\n",
        "cidades_df['estado']= cidades_df['estado'].replace(['ceará'],['ceara'])\n",
        "cidades_df['estado']= cidades_df['estado'].replace(['goiás'],['goias'])\n",
        "cidades_df['estado']= cidades_df['estado'].replace(['maranhão'],['maranhao'])\n",
        "cidades_df['estado']= cidades_df['estado'].replace(['pará'],['para'])\n",
        "cidades_df['estado']= cidades_df['estado'].replace(['paraíba'],['paraiba'])\n",
        "cidades_df['estado']= cidades_df['estado'].replace(['paraná'],['parana'])\n",
        "cidades_df['estado']= cidades_df['estado'].replace(['piauí'],['piaui'])\n",
        "cidades_df['estado']= cidades_df['estado'].replace(['rondônia'],['rondonia'])"
      ]
    },
    {
      "cell_type": "code",
      "execution_count": null,
      "metadata": {
        "colab": {
          "base_uri": "https://localhost:8080/",
          "height": 206
        },
        "id": "PipP7EFlgo-b",
        "outputId": "3f58e813-4173-4239-b832-2fa00e6c2386"
      },
      "outputs": [
        {
          "data": {
            "application/vnd.google.colaboratory.intrinsic+json": {
              "summary": "{\n  \"name\": \"brasil_df\",\n  \"rows\": 5565,\n  \"fields\": [\n    {\n      \"column\": \"estado\",\n      \"properties\": {\n        \"dtype\": \"category\",\n        \"num_unique_values\": 37,\n        \"samples\": [\n          \"para\",\n          \"maranh\\u00e3o\",\n          \"amazonas\"\n        ],\n        \"semantic_type\": \"\",\n        \"description\": \"\"\n      }\n    },\n    {\n      \"column\": \"sigla\",\n      \"properties\": {\n        \"dtype\": \"category\",\n        \"num_unique_values\": 27,\n        \"samples\": [\n          \"GO\",\n          \"PA\",\n          \"MA\"\n        ],\n        \"semantic_type\": \"\",\n        \"description\": \"\"\n      }\n    },\n    {\n      \"column\": \"regiao\",\n      \"properties\": {\n        \"dtype\": \"category\",\n        \"num_unique_values\": 5,\n        \"samples\": [\n          \"NORDESTE\",\n          \"SUL\",\n          \"CENTRO-OESTE\"\n        ],\n        \"semantic_type\": \"\",\n        \"description\": \"\"\n      }\n    },\n    {\n      \"column\": \"cidade\",\n      \"properties\": {\n        \"dtype\": \"string\",\n        \"num_unique_values\": 5285,\n        \"samples\": [\n          \"Jacarezinho\",\n          \"Santa Filomena\",\n          \"Capela do Alto Alegre\"\n        ],\n        \"semantic_type\": \"\",\n        \"description\": \"\"\n      }\n    },\n    {\n      \"column\": \"populacao\",\n      \"properties\": {\n        \"dtype\": \"number\",\n        \"std\": 201982.9583386941,\n        \"min\": 837.0,\n        \"max\": 11037593.0,\n        \"num_unique_values\": 5067,\n        \"samples\": [\n          9527.0,\n          3761.0,\n          27148.0\n        ],\n        \"semantic_type\": \"\",\n        \"description\": \"\"\n      }\n    },\n    {\n      \"column\": \"pib\",\n      \"properties\": {\n        \"dtype\": \"number\",\n        \"std\": 6352059.662058852,\n        \"min\": 5770.28222656,\n        \"max\": 389317152.0,\n        \"num_unique_values\": 5554,\n        \"samples\": [\n          60099.21484375,\n          54840.57421875,\n          40264.09375\n        ],\n        \"semantic_type\": \"\",\n        \"description\": \"\"\n      }\n    },\n    {\n      \"column\": \"pib_percapita\",\n      \"properties\": {\n        \"dtype\": \"number\",\n        \"std\": 12159.333812744433,\n        \"min\": 1929.9699707,\n        \"max\": 360815.84375,\n        \"num_unique_values\": 5544,\n        \"samples\": [\n          3826.07006836,\n          4469.87011719,\n          13547.37011719\n        ],\n        \"semantic_type\": \"\",\n        \"description\": \"\"\n      }\n    }\n  ]\n}",
              "type": "dataframe",
              "variable_name": "brasil_df"
            },
            "text/html": [
              "\n",
              "  <div id=\"df-40fc1e04-7fae-425e-a3bb-8233d17863ab\" class=\"colab-df-container\">\n",
              "    <div>\n",
              "<style scoped>\n",
              "    .dataframe tbody tr th:only-of-type {\n",
              "        vertical-align: middle;\n",
              "    }\n",
              "\n",
              "    .dataframe tbody tr th {\n",
              "        vertical-align: top;\n",
              "    }\n",
              "\n",
              "    .dataframe thead th {\n",
              "        text-align: right;\n",
              "    }\n",
              "</style>\n",
              "<table border=\"1\" class=\"dataframe\">\n",
              "  <thead>\n",
              "    <tr style=\"text-align: right;\">\n",
              "      <th></th>\n",
              "      <th>estado</th>\n",
              "      <th>sigla</th>\n",
              "      <th>regiao</th>\n",
              "      <th>cidade</th>\n",
              "      <th>populacao</th>\n",
              "      <th>pib</th>\n",
              "      <th>pib_percapita</th>\n",
              "    </tr>\n",
              "  </thead>\n",
              "  <tbody>\n",
              "    <tr>\n",
              "      <th>0</th>\n",
              "      <td>acre</td>\n",
              "      <td>AC</td>\n",
              "      <td>NORTE</td>\n",
              "      <td>Marechal Thaumaturgo</td>\n",
              "      <td>14275.0</td>\n",
              "      <td>109181.867188</td>\n",
              "      <td>7648.470215</td>\n",
              "    </tr>\n",
              "    <tr>\n",
              "      <th>1</th>\n",
              "      <td>acre</td>\n",
              "      <td>AC</td>\n",
              "      <td>NORTE</td>\n",
              "      <td>Senador Guiomard</td>\n",
              "      <td>19697.0</td>\n",
              "      <td>217153.859375</td>\n",
              "      <td>11024.719727</td>\n",
              "    </tr>\n",
              "    <tr>\n",
              "      <th>2</th>\n",
              "      <td>acre</td>\n",
              "      <td>AC</td>\n",
              "      <td>NORTE</td>\n",
              "      <td>Assis Brasil</td>\n",
              "      <td>5662.0</td>\n",
              "      <td>48347.300781</td>\n",
              "      <td>8538.910156</td>\n",
              "    </tr>\n",
              "    <tr>\n",
              "      <th>3</th>\n",
              "      <td>acre</td>\n",
              "      <td>AC</td>\n",
              "      <td>NORTE</td>\n",
              "      <td>Epitaciolândia</td>\n",
              "      <td>14224.0</td>\n",
              "      <td>129641.093750</td>\n",
              "      <td>9114.250000</td>\n",
              "    </tr>\n",
              "    <tr>\n",
              "      <th>4</th>\n",
              "      <td>acre</td>\n",
              "      <td>AC</td>\n",
              "      <td>NORTE</td>\n",
              "      <td>Manoel Urbano</td>\n",
              "      <td>7505.0</td>\n",
              "      <td>61478.730469</td>\n",
              "      <td>8191.700195</td>\n",
              "    </tr>\n",
              "  </tbody>\n",
              "</table>\n",
              "</div>\n",
              "    <div class=\"colab-df-buttons\">\n",
              "\n",
              "  <div class=\"colab-df-container\">\n",
              "    <button class=\"colab-df-convert\" onclick=\"convertToInteractive('df-40fc1e04-7fae-425e-a3bb-8233d17863ab')\"\n",
              "            title=\"Convert this dataframe to an interactive table.\"\n",
              "            style=\"display:none;\">\n",
              "\n",
              "  <svg xmlns=\"http://www.w3.org/2000/svg\" height=\"24px\" viewBox=\"0 -960 960 960\">\n",
              "    <path d=\"M120-120v-720h720v720H120Zm60-500h600v-160H180v160Zm220 220h160v-160H400v160Zm0 220h160v-160H400v160ZM180-400h160v-160H180v160Zm440 0h160v-160H620v160ZM180-180h160v-160H180v160Zm440 0h160v-160H620v160Z\"/>\n",
              "  </svg>\n",
              "    </button>\n",
              "\n",
              "  <style>\n",
              "    .colab-df-container {\n",
              "      display:flex;\n",
              "      gap: 12px;\n",
              "    }\n",
              "\n",
              "    .colab-df-convert {\n",
              "      background-color: #E8F0FE;\n",
              "      border: none;\n",
              "      border-radius: 50%;\n",
              "      cursor: pointer;\n",
              "      display: none;\n",
              "      fill: #1967D2;\n",
              "      height: 32px;\n",
              "      padding: 0 0 0 0;\n",
              "      width: 32px;\n",
              "    }\n",
              "\n",
              "    .colab-df-convert:hover {\n",
              "      background-color: #E2EBFA;\n",
              "      box-shadow: 0px 1px 2px rgba(60, 64, 67, 0.3), 0px 1px 3px 1px rgba(60, 64, 67, 0.15);\n",
              "      fill: #174EA6;\n",
              "    }\n",
              "\n",
              "    .colab-df-buttons div {\n",
              "      margin-bottom: 4px;\n",
              "    }\n",
              "\n",
              "    [theme=dark] .colab-df-convert {\n",
              "      background-color: #3B4455;\n",
              "      fill: #D2E3FC;\n",
              "    }\n",
              "\n",
              "    [theme=dark] .colab-df-convert:hover {\n",
              "      background-color: #434B5C;\n",
              "      box-shadow: 0px 1px 3px 1px rgba(0, 0, 0, 0.15);\n",
              "      filter: drop-shadow(0px 1px 2px rgba(0, 0, 0, 0.3));\n",
              "      fill: #FFFFFF;\n",
              "    }\n",
              "  </style>\n",
              "\n",
              "    <script>\n",
              "      const buttonEl =\n",
              "        document.querySelector('#df-40fc1e04-7fae-425e-a3bb-8233d17863ab button.colab-df-convert');\n",
              "      buttonEl.style.display =\n",
              "        google.colab.kernel.accessAllowed ? 'block' : 'none';\n",
              "\n",
              "      async function convertToInteractive(key) {\n",
              "        const element = document.querySelector('#df-40fc1e04-7fae-425e-a3bb-8233d17863ab');\n",
              "        const dataTable =\n",
              "          await google.colab.kernel.invokeFunction('convertToInteractive',\n",
              "                                                    [key], {});\n",
              "        if (!dataTable) return;\n",
              "\n",
              "        const docLinkHtml = 'Like what you see? Visit the ' +\n",
              "          '<a target=\"_blank\" href=https://colab.research.google.com/notebooks/data_table.ipynb>data table notebook</a>'\n",
              "          + ' to learn more about interactive tables.';\n",
              "        element.innerHTML = '';\n",
              "        dataTable['output_type'] = 'display_data';\n",
              "        await google.colab.output.renderOutput(dataTable, element);\n",
              "        const docLink = document.createElement('div');\n",
              "        docLink.innerHTML = docLinkHtml;\n",
              "        element.appendChild(docLink);\n",
              "      }\n",
              "    </script>\n",
              "  </div>\n",
              "\n",
              "\n",
              "<div id=\"df-58772252-07a4-4175-98d1-883ac971dd09\">\n",
              "  <button class=\"colab-df-quickchart\" onclick=\"quickchart('df-58772252-07a4-4175-98d1-883ac971dd09')\"\n",
              "            title=\"Suggest charts\"\n",
              "            style=\"display:none;\">\n",
              "\n",
              "<svg xmlns=\"http://www.w3.org/2000/svg\" height=\"24px\"viewBox=\"0 0 24 24\"\n",
              "     width=\"24px\">\n",
              "    <g>\n",
              "        <path d=\"M19 3H5c-1.1 0-2 .9-2 2v14c0 1.1.9 2 2 2h14c1.1 0 2-.9 2-2V5c0-1.1-.9-2-2-2zM9 17H7v-7h2v7zm4 0h-2V7h2v10zm4 0h-2v-4h2v4z\"/>\n",
              "    </g>\n",
              "</svg>\n",
              "  </button>\n",
              "\n",
              "<style>\n",
              "  .colab-df-quickchart {\n",
              "      --bg-color: #E8F0FE;\n",
              "      --fill-color: #1967D2;\n",
              "      --hover-bg-color: #E2EBFA;\n",
              "      --hover-fill-color: #174EA6;\n",
              "      --disabled-fill-color: #AAA;\n",
              "      --disabled-bg-color: #DDD;\n",
              "  }\n",
              "\n",
              "  [theme=dark] .colab-df-quickchart {\n",
              "      --bg-color: #3B4455;\n",
              "      --fill-color: #D2E3FC;\n",
              "      --hover-bg-color: #434B5C;\n",
              "      --hover-fill-color: #FFFFFF;\n",
              "      --disabled-bg-color: #3B4455;\n",
              "      --disabled-fill-color: #666;\n",
              "  }\n",
              "\n",
              "  .colab-df-quickchart {\n",
              "    background-color: var(--bg-color);\n",
              "    border: none;\n",
              "    border-radius: 50%;\n",
              "    cursor: pointer;\n",
              "    display: none;\n",
              "    fill: var(--fill-color);\n",
              "    height: 32px;\n",
              "    padding: 0;\n",
              "    width: 32px;\n",
              "  }\n",
              "\n",
              "  .colab-df-quickchart:hover {\n",
              "    background-color: var(--hover-bg-color);\n",
              "    box-shadow: 0 1px 2px rgba(60, 64, 67, 0.3), 0 1px 3px 1px rgba(60, 64, 67, 0.15);\n",
              "    fill: var(--button-hover-fill-color);\n",
              "  }\n",
              "\n",
              "  .colab-df-quickchart-complete:disabled,\n",
              "  .colab-df-quickchart-complete:disabled:hover {\n",
              "    background-color: var(--disabled-bg-color);\n",
              "    fill: var(--disabled-fill-color);\n",
              "    box-shadow: none;\n",
              "  }\n",
              "\n",
              "  .colab-df-spinner {\n",
              "    border: 2px solid var(--fill-color);\n",
              "    border-color: transparent;\n",
              "    border-bottom-color: var(--fill-color);\n",
              "    animation:\n",
              "      spin 1s steps(1) infinite;\n",
              "  }\n",
              "\n",
              "  @keyframes spin {\n",
              "    0% {\n",
              "      border-color: transparent;\n",
              "      border-bottom-color: var(--fill-color);\n",
              "      border-left-color: var(--fill-color);\n",
              "    }\n",
              "    20% {\n",
              "      border-color: transparent;\n",
              "      border-left-color: var(--fill-color);\n",
              "      border-top-color: var(--fill-color);\n",
              "    }\n",
              "    30% {\n",
              "      border-color: transparent;\n",
              "      border-left-color: var(--fill-color);\n",
              "      border-top-color: var(--fill-color);\n",
              "      border-right-color: var(--fill-color);\n",
              "    }\n",
              "    40% {\n",
              "      border-color: transparent;\n",
              "      border-right-color: var(--fill-color);\n",
              "      border-top-color: var(--fill-color);\n",
              "    }\n",
              "    60% {\n",
              "      border-color: transparent;\n",
              "      border-right-color: var(--fill-color);\n",
              "    }\n",
              "    80% {\n",
              "      border-color: transparent;\n",
              "      border-right-color: var(--fill-color);\n",
              "      border-bottom-color: var(--fill-color);\n",
              "    }\n",
              "    90% {\n",
              "      border-color: transparent;\n",
              "      border-bottom-color: var(--fill-color);\n",
              "    }\n",
              "  }\n",
              "</style>\n",
              "\n",
              "  <script>\n",
              "    async function quickchart(key) {\n",
              "      const quickchartButtonEl =\n",
              "        document.querySelector('#' + key + ' button');\n",
              "      quickchartButtonEl.disabled = true;  // To prevent multiple clicks.\n",
              "      quickchartButtonEl.classList.add('colab-df-spinner');\n",
              "      try {\n",
              "        const charts = await google.colab.kernel.invokeFunction(\n",
              "            'suggestCharts', [key], {});\n",
              "      } catch (error) {\n",
              "        console.error('Error during call to suggestCharts:', error);\n",
              "      }\n",
              "      quickchartButtonEl.classList.remove('colab-df-spinner');\n",
              "      quickchartButtonEl.classList.add('colab-df-quickchart-complete');\n",
              "    }\n",
              "    (() => {\n",
              "      let quickchartButtonEl =\n",
              "        document.querySelector('#df-58772252-07a4-4175-98d1-883ac971dd09 button');\n",
              "      quickchartButtonEl.style.display =\n",
              "        google.colab.kernel.accessAllowed ? 'block' : 'none';\n",
              "    })();\n",
              "  </script>\n",
              "</div>\n",
              "\n",
              "    </div>\n",
              "  </div>\n"
            ],
            "text/plain": [
              "  estado sigla regiao                cidade  populacao            pib  \\\n",
              "0   acre    AC  NORTE  Marechal Thaumaturgo    14275.0  109181.867188   \n",
              "1   acre    AC  NORTE      Senador Guiomard    19697.0  217153.859375   \n",
              "2   acre    AC  NORTE          Assis Brasil     5662.0   48347.300781   \n",
              "3   acre    AC  NORTE        Epitaciolândia    14224.0  129641.093750   \n",
              "4   acre    AC  NORTE         Manoel Urbano     7505.0   61478.730469   \n",
              "\n",
              "   pib_percapita  \n",
              "0    7648.470215  \n",
              "1   11024.719727  \n",
              "2    8538.910156  \n",
              "3    9114.250000  \n",
              "4    8191.700195  "
            ]
          },
          "execution_count": 32,
          "metadata": {},
          "output_type": "execute_result"
        }
      ],
      "source": [
        "def padronizar_estado(estado):\n",
        "    return estado.lower().strip()\n",
        "\n",
        "estados_df['estado'] = estados_df['estado'].apply(padronizar_estado)\n",
        "cidades_df['estado'] = cidades_df['estado'].apply(padronizar_estado)\n",
        "\n",
        "brasil_df = pd.merge(estados_df, cidades_df, on='estado', how='outer')\n",
        "\n",
        "brasil_df.to_csv('brasil.csv', index=False)\n",
        "\n",
        "brasil_df.head()"
      ]
    },
    {
      "cell_type": "markdown",
      "metadata": {
        "id": "waxn4B2UDHyl"
      },
      "source": [
        "---"
      ]
    },
    {
      "cell_type": "markdown",
      "metadata": {
        "id": "finLQoyyGVmk"
      },
      "source": [
        "## 2\\. Data Analytics"
      ]
    },
    {
      "cell_type": "markdown",
      "metadata": {
        "id": "Ab0GW19Ed1ig"
      },
      "source": [
        "### **2.1. DataFrame**"
      ]
    },
    {
      "cell_type": "markdown",
      "metadata": {
        "id": "l8jJYjeBdijt"
      },
      "source": [
        "Utilize o pacote Python `pandas` para carregar o arquivo `brasil.csv` no dataframe `brasil_df`."
      ]
    },
    {
      "cell_type": "code",
      "execution_count": null,
      "metadata": {
        "colab": {
          "base_uri": "https://localhost:8080/",
          "height": 206
        },
        "id": "8kFQLlqud4QL",
        "outputId": "c01c848d-b5bb-4e97-a93b-df6df1dd3631"
      },
      "outputs": [
        {
          "data": {
            "application/vnd.google.colaboratory.intrinsic+json": {
              "summary": "{\n  \"name\": \"brasil_df\",\n  \"rows\": 5565,\n  \"fields\": [\n    {\n      \"column\": \"estado\",\n      \"properties\": {\n        \"dtype\": \"category\",\n        \"num_unique_values\": 37,\n        \"samples\": [\n          \"para\",\n          \"maranh\\u00e3o\",\n          \"amazonas\"\n        ],\n        \"semantic_type\": \"\",\n        \"description\": \"\"\n      }\n    },\n    {\n      \"column\": \"sigla\",\n      \"properties\": {\n        \"dtype\": \"category\",\n        \"num_unique_values\": 27,\n        \"samples\": [\n          \"GO\",\n          \"PA\",\n          \"MA\"\n        ],\n        \"semantic_type\": \"\",\n        \"description\": \"\"\n      }\n    },\n    {\n      \"column\": \"regiao\",\n      \"properties\": {\n        \"dtype\": \"category\",\n        \"num_unique_values\": 5,\n        \"samples\": [\n          \"NORDESTE\",\n          \"SUL\",\n          \"CENTRO-OESTE\"\n        ],\n        \"semantic_type\": \"\",\n        \"description\": \"\"\n      }\n    },\n    {\n      \"column\": \"cidade\",\n      \"properties\": {\n        \"dtype\": \"string\",\n        \"num_unique_values\": 5285,\n        \"samples\": [\n          \"Jacarezinho\",\n          \"Santa Filomena\",\n          \"Capela do Alto Alegre\"\n        ],\n        \"semantic_type\": \"\",\n        \"description\": \"\"\n      }\n    },\n    {\n      \"column\": \"populacao\",\n      \"properties\": {\n        \"dtype\": \"number\",\n        \"std\": 201982.9583386941,\n        \"min\": 837.0,\n        \"max\": 11037593.0,\n        \"num_unique_values\": 5067,\n        \"samples\": [\n          9527.0,\n          3761.0,\n          27148.0\n        ],\n        \"semantic_type\": \"\",\n        \"description\": \"\"\n      }\n    },\n    {\n      \"column\": \"pib\",\n      \"properties\": {\n        \"dtype\": \"number\",\n        \"std\": 6352059.662058852,\n        \"min\": 5770.28222656,\n        \"max\": 389317152.0,\n        \"num_unique_values\": 5554,\n        \"samples\": [\n          60099.21484375,\n          54840.57421875,\n          40264.09375\n        ],\n        \"semantic_type\": \"\",\n        \"description\": \"\"\n      }\n    },\n    {\n      \"column\": \"pib_percapita\",\n      \"properties\": {\n        \"dtype\": \"number\",\n        \"std\": 12159.333812744433,\n        \"min\": 1929.9699707,\n        \"max\": 360815.84375,\n        \"num_unique_values\": 5544,\n        \"samples\": [\n          3826.07006836,\n          4469.87011719,\n          13547.37011719\n        ],\n        \"semantic_type\": \"\",\n        \"description\": \"\"\n      }\n    }\n  ]\n}",
              "type": "dataframe",
              "variable_name": "brasil_df"
            },
            "text/html": [
              "\n",
              "  <div id=\"df-976ac56d-c77c-4461-85a2-58cbeec5a85b\" class=\"colab-df-container\">\n",
              "    <div>\n",
              "<style scoped>\n",
              "    .dataframe tbody tr th:only-of-type {\n",
              "        vertical-align: middle;\n",
              "    }\n",
              "\n",
              "    .dataframe tbody tr th {\n",
              "        vertical-align: top;\n",
              "    }\n",
              "\n",
              "    .dataframe thead th {\n",
              "        text-align: right;\n",
              "    }\n",
              "</style>\n",
              "<table border=\"1\" class=\"dataframe\">\n",
              "  <thead>\n",
              "    <tr style=\"text-align: right;\">\n",
              "      <th></th>\n",
              "      <th>estado</th>\n",
              "      <th>sigla</th>\n",
              "      <th>regiao</th>\n",
              "      <th>cidade</th>\n",
              "      <th>populacao</th>\n",
              "      <th>pib</th>\n",
              "      <th>pib_percapita</th>\n",
              "    </tr>\n",
              "  </thead>\n",
              "  <tbody>\n",
              "    <tr>\n",
              "      <th>0</th>\n",
              "      <td>acre</td>\n",
              "      <td>AC</td>\n",
              "      <td>NORTE</td>\n",
              "      <td>Marechal Thaumaturgo</td>\n",
              "      <td>14275.0</td>\n",
              "      <td>109181.867188</td>\n",
              "      <td>7648.470215</td>\n",
              "    </tr>\n",
              "    <tr>\n",
              "      <th>1</th>\n",
              "      <td>acre</td>\n",
              "      <td>AC</td>\n",
              "      <td>NORTE</td>\n",
              "      <td>Senador Guiomard</td>\n",
              "      <td>19697.0</td>\n",
              "      <td>217153.859375</td>\n",
              "      <td>11024.719727</td>\n",
              "    </tr>\n",
              "    <tr>\n",
              "      <th>2</th>\n",
              "      <td>acre</td>\n",
              "      <td>AC</td>\n",
              "      <td>NORTE</td>\n",
              "      <td>Assis Brasil</td>\n",
              "      <td>5662.0</td>\n",
              "      <td>48347.300781</td>\n",
              "      <td>8538.910156</td>\n",
              "    </tr>\n",
              "    <tr>\n",
              "      <th>3</th>\n",
              "      <td>acre</td>\n",
              "      <td>AC</td>\n",
              "      <td>NORTE</td>\n",
              "      <td>Epitaciolândia</td>\n",
              "      <td>14224.0</td>\n",
              "      <td>129641.093750</td>\n",
              "      <td>9114.250000</td>\n",
              "    </tr>\n",
              "    <tr>\n",
              "      <th>4</th>\n",
              "      <td>acre</td>\n",
              "      <td>AC</td>\n",
              "      <td>NORTE</td>\n",
              "      <td>Manoel Urbano</td>\n",
              "      <td>7505.0</td>\n",
              "      <td>61478.730469</td>\n",
              "      <td>8191.700195</td>\n",
              "    </tr>\n",
              "  </tbody>\n",
              "</table>\n",
              "</div>\n",
              "    <div class=\"colab-df-buttons\">\n",
              "\n",
              "  <div class=\"colab-df-container\">\n",
              "    <button class=\"colab-df-convert\" onclick=\"convertToInteractive('df-976ac56d-c77c-4461-85a2-58cbeec5a85b')\"\n",
              "            title=\"Convert this dataframe to an interactive table.\"\n",
              "            style=\"display:none;\">\n",
              "\n",
              "  <svg xmlns=\"http://www.w3.org/2000/svg\" height=\"24px\" viewBox=\"0 -960 960 960\">\n",
              "    <path d=\"M120-120v-720h720v720H120Zm60-500h600v-160H180v160Zm220 220h160v-160H400v160Zm0 220h160v-160H400v160ZM180-400h160v-160H180v160Zm440 0h160v-160H620v160ZM180-180h160v-160H180v160Zm440 0h160v-160H620v160Z\"/>\n",
              "  </svg>\n",
              "    </button>\n",
              "\n",
              "  <style>\n",
              "    .colab-df-container {\n",
              "      display:flex;\n",
              "      gap: 12px;\n",
              "    }\n",
              "\n",
              "    .colab-df-convert {\n",
              "      background-color: #E8F0FE;\n",
              "      border: none;\n",
              "      border-radius: 50%;\n",
              "      cursor: pointer;\n",
              "      display: none;\n",
              "      fill: #1967D2;\n",
              "      height: 32px;\n",
              "      padding: 0 0 0 0;\n",
              "      width: 32px;\n",
              "    }\n",
              "\n",
              "    .colab-df-convert:hover {\n",
              "      background-color: #E2EBFA;\n",
              "      box-shadow: 0px 1px 2px rgba(60, 64, 67, 0.3), 0px 1px 3px 1px rgba(60, 64, 67, 0.15);\n",
              "      fill: #174EA6;\n",
              "    }\n",
              "\n",
              "    .colab-df-buttons div {\n",
              "      margin-bottom: 4px;\n",
              "    }\n",
              "\n",
              "    [theme=dark] .colab-df-convert {\n",
              "      background-color: #3B4455;\n",
              "      fill: #D2E3FC;\n",
              "    }\n",
              "\n",
              "    [theme=dark] .colab-df-convert:hover {\n",
              "      background-color: #434B5C;\n",
              "      box-shadow: 0px 1px 3px 1px rgba(0, 0, 0, 0.15);\n",
              "      filter: drop-shadow(0px 1px 2px rgba(0, 0, 0, 0.3));\n",
              "      fill: #FFFFFF;\n",
              "    }\n",
              "  </style>\n",
              "\n",
              "    <script>\n",
              "      const buttonEl =\n",
              "        document.querySelector('#df-976ac56d-c77c-4461-85a2-58cbeec5a85b button.colab-df-convert');\n",
              "      buttonEl.style.display =\n",
              "        google.colab.kernel.accessAllowed ? 'block' : 'none';\n",
              "\n",
              "      async function convertToInteractive(key) {\n",
              "        const element = document.querySelector('#df-976ac56d-c77c-4461-85a2-58cbeec5a85b');\n",
              "        const dataTable =\n",
              "          await google.colab.kernel.invokeFunction('convertToInteractive',\n",
              "                                                    [key], {});\n",
              "        if (!dataTable) return;\n",
              "\n",
              "        const docLinkHtml = 'Like what you see? Visit the ' +\n",
              "          '<a target=\"_blank\" href=https://colab.research.google.com/notebooks/data_table.ipynb>data table notebook</a>'\n",
              "          + ' to learn more about interactive tables.';\n",
              "        element.innerHTML = '';\n",
              "        dataTable['output_type'] = 'display_data';\n",
              "        await google.colab.output.renderOutput(dataTable, element);\n",
              "        const docLink = document.createElement('div');\n",
              "        docLink.innerHTML = docLinkHtml;\n",
              "        element.appendChild(docLink);\n",
              "      }\n",
              "    </script>\n",
              "  </div>\n",
              "\n",
              "\n",
              "<div id=\"df-51932641-e88f-4f6a-a916-19269824f889\">\n",
              "  <button class=\"colab-df-quickchart\" onclick=\"quickchart('df-51932641-e88f-4f6a-a916-19269824f889')\"\n",
              "            title=\"Suggest charts\"\n",
              "            style=\"display:none;\">\n",
              "\n",
              "<svg xmlns=\"http://www.w3.org/2000/svg\" height=\"24px\"viewBox=\"0 0 24 24\"\n",
              "     width=\"24px\">\n",
              "    <g>\n",
              "        <path d=\"M19 3H5c-1.1 0-2 .9-2 2v14c0 1.1.9 2 2 2h14c1.1 0 2-.9 2-2V5c0-1.1-.9-2-2-2zM9 17H7v-7h2v7zm4 0h-2V7h2v10zm4 0h-2v-4h2v4z\"/>\n",
              "    </g>\n",
              "</svg>\n",
              "  </button>\n",
              "\n",
              "<style>\n",
              "  .colab-df-quickchart {\n",
              "      --bg-color: #E8F0FE;\n",
              "      --fill-color: #1967D2;\n",
              "      --hover-bg-color: #E2EBFA;\n",
              "      --hover-fill-color: #174EA6;\n",
              "      --disabled-fill-color: #AAA;\n",
              "      --disabled-bg-color: #DDD;\n",
              "  }\n",
              "\n",
              "  [theme=dark] .colab-df-quickchart {\n",
              "      --bg-color: #3B4455;\n",
              "      --fill-color: #D2E3FC;\n",
              "      --hover-bg-color: #434B5C;\n",
              "      --hover-fill-color: #FFFFFF;\n",
              "      --disabled-bg-color: #3B4455;\n",
              "      --disabled-fill-color: #666;\n",
              "  }\n",
              "\n",
              "  .colab-df-quickchart {\n",
              "    background-color: var(--bg-color);\n",
              "    border: none;\n",
              "    border-radius: 50%;\n",
              "    cursor: pointer;\n",
              "    display: none;\n",
              "    fill: var(--fill-color);\n",
              "    height: 32px;\n",
              "    padding: 0;\n",
              "    width: 32px;\n",
              "  }\n",
              "\n",
              "  .colab-df-quickchart:hover {\n",
              "    background-color: var(--hover-bg-color);\n",
              "    box-shadow: 0 1px 2px rgba(60, 64, 67, 0.3), 0 1px 3px 1px rgba(60, 64, 67, 0.15);\n",
              "    fill: var(--button-hover-fill-color);\n",
              "  }\n",
              "\n",
              "  .colab-df-quickchart-complete:disabled,\n",
              "  .colab-df-quickchart-complete:disabled:hover {\n",
              "    background-color: var(--disabled-bg-color);\n",
              "    fill: var(--disabled-fill-color);\n",
              "    box-shadow: none;\n",
              "  }\n",
              "\n",
              "  .colab-df-spinner {\n",
              "    border: 2px solid var(--fill-color);\n",
              "    border-color: transparent;\n",
              "    border-bottom-color: var(--fill-color);\n",
              "    animation:\n",
              "      spin 1s steps(1) infinite;\n",
              "  }\n",
              "\n",
              "  @keyframes spin {\n",
              "    0% {\n",
              "      border-color: transparent;\n",
              "      border-bottom-color: var(--fill-color);\n",
              "      border-left-color: var(--fill-color);\n",
              "    }\n",
              "    20% {\n",
              "      border-color: transparent;\n",
              "      border-left-color: var(--fill-color);\n",
              "      border-top-color: var(--fill-color);\n",
              "    }\n",
              "    30% {\n",
              "      border-color: transparent;\n",
              "      border-left-color: var(--fill-color);\n",
              "      border-top-color: var(--fill-color);\n",
              "      border-right-color: var(--fill-color);\n",
              "    }\n",
              "    40% {\n",
              "      border-color: transparent;\n",
              "      border-right-color: var(--fill-color);\n",
              "      border-top-color: var(--fill-color);\n",
              "    }\n",
              "    60% {\n",
              "      border-color: transparent;\n",
              "      border-right-color: var(--fill-color);\n",
              "    }\n",
              "    80% {\n",
              "      border-color: transparent;\n",
              "      border-right-color: var(--fill-color);\n",
              "      border-bottom-color: var(--fill-color);\n",
              "    }\n",
              "    90% {\n",
              "      border-color: transparent;\n",
              "      border-bottom-color: var(--fill-color);\n",
              "    }\n",
              "  }\n",
              "</style>\n",
              "\n",
              "  <script>\n",
              "    async function quickchart(key) {\n",
              "      const quickchartButtonEl =\n",
              "        document.querySelector('#' + key + ' button');\n",
              "      quickchartButtonEl.disabled = true;  // To prevent multiple clicks.\n",
              "      quickchartButtonEl.classList.add('colab-df-spinner');\n",
              "      try {\n",
              "        const charts = await google.colab.kernel.invokeFunction(\n",
              "            'suggestCharts', [key], {});\n",
              "      } catch (error) {\n",
              "        console.error('Error during call to suggestCharts:', error);\n",
              "      }\n",
              "      quickchartButtonEl.classList.remove('colab-df-spinner');\n",
              "      quickchartButtonEl.classList.add('colab-df-quickchart-complete');\n",
              "    }\n",
              "    (() => {\n",
              "      let quickchartButtonEl =\n",
              "        document.querySelector('#df-51932641-e88f-4f6a-a916-19269824f889 button');\n",
              "      quickchartButtonEl.style.display =\n",
              "        google.colab.kernel.accessAllowed ? 'block' : 'none';\n",
              "    })();\n",
              "  </script>\n",
              "</div>\n",
              "\n",
              "    </div>\n",
              "  </div>\n"
            ],
            "text/plain": [
              "  estado sigla regiao                cidade  populacao            pib  \\\n",
              "0   acre    AC  NORTE  Marechal Thaumaturgo    14275.0  109181.867188   \n",
              "1   acre    AC  NORTE      Senador Guiomard    19697.0  217153.859375   \n",
              "2   acre    AC  NORTE          Assis Brasil     5662.0   48347.300781   \n",
              "3   acre    AC  NORTE        Epitaciolândia    14224.0  129641.093750   \n",
              "4   acre    AC  NORTE         Manoel Urbano     7505.0   61478.730469   \n",
              "\n",
              "   pib_percapita  \n",
              "0    7648.470215  \n",
              "1   11024.719727  \n",
              "2    8538.910156  \n",
              "3    9114.250000  \n",
              "4    8191.700195  "
            ]
          },
          "execution_count": 33,
          "metadata": {},
          "output_type": "execute_result"
        }
      ],
      "source": [
        "# solução do exercício 2.1\n",
        "import pandas as pd\n",
        "\n",
        "brasil_df = pd.read_csv('brasil.csv')\n",
        "brasil_df.head()"
      ]
    },
    {
      "cell_type": "markdown",
      "metadata": {
        "id": "ZFWvK8FXHuex"
      },
      "source": [
        "### **2.2. Analise**"
      ]
    },
    {
      "cell_type": "markdown",
      "metadata": {
        "id": "EGyz0R1dd62D"
      },
      "source": [
        "Utilize o dataframe `brasil_df` para responder as seguintes perguntas de negócio:"
      ]
    },
    {
      "cell_type": "markdown",
      "metadata": {
        "id": "lGnYVp7IeFBD"
      },
      "source": [
        " - Quais são as 10 cidades mais populosas do Brasil?"
      ]
    },
    {
      "cell_type": "code",
      "execution_count": null,
      "metadata": {
        "colab": {
          "base_uri": "https://localhost:8080/"
        },
        "id": "KQKcD-VkeQYf",
        "outputId": "17b9633e-c56a-4c14-ebb9-723019261ffd"
      },
      "outputs": [
        {
          "name": "stdout",
          "output_type": "stream",
          "text": [
            "                estado sigla        regiao          cidade   populacao  \\\n",
            "5341         são paulo   NaN           NaN       São Paulo  11037593.0   \n",
            "3608    rio de janeiro    RJ       SUDESTE  Rio de Janeiro   6186710.0   \n",
            "247              bahia    BA      NORDESTE        Salvador   2998056.0   \n",
            "804   distrito federal    DF  CENTRO-OESTE        Brasília   2606885.0   \n",
            "768              ceará   NaN           NaN       Fortaleza   2505552.0   \n",
            "2308      minas gerais    MG       SUDESTE  Belo Horizonte   2452617.0   \n",
            "2550            paraná   NaN           NaN        Curitiba   1851215.0   \n",
            "143           amazonas    AM         NORTE          Manaus   1738641.0   \n",
            "3306        pernambuco    PE      NORDESTE          Recife   1561659.0   \n",
            "3169              pará   NaN           NaN           Belém   1437600.0   \n",
            "\n",
            "              pib  pib_percapita  \n",
            "5341  389317152.0   35271.929688  \n",
            "3608  175739344.0   28405.949219  \n",
            "247    32824228.0   10948.500000  \n",
            "804   131487264.0   50438.460938  \n",
            "768    31789186.0   12687.500000  \n",
            "2308   44595204.0   18182.699219  \n",
            "2550   45762420.0   24720.210938  \n",
            "143    40486108.0   23286.060547  \n",
            "3306   24835340.0   15903.179688  \n",
            "3169   16526989.0   11496.240234  \n"
          ]
        }
      ],
      "source": [
        "# código para responder a pergunta\n",
        "top_10_cidades = brasil_df.sort_values(by='populacao', ascending=False).head(10)\n",
        "print(top_10_cidades)"
      ]
    },
    {
      "cell_type": "markdown",
      "metadata": {
        "id": "l93St6uleWTp"
      },
      "source": [
        " - Quais são as 5 cidades com a menor PIB per capita da região nordeste?"
      ]
    },
    {
      "cell_type": "code",
      "execution_count": null,
      "metadata": {
        "colab": {
          "base_uri": "https://localhost:8080/"
        },
        "id": "DS5akh2zeWTq",
        "outputId": "7c5c7ef0-f386-4095-99b3-fe31cc43e903"
      },
      "outputs": [
        {
          "name": "stdout",
          "output_type": "stream",
          "text": [
            "        estado sigla regiao              cidade  populacao           pib  \\\n",
            "1323  maranhão   NaN    NaN  São Vicente Ferrer    20463.0  39492.960938   \n",
            "3137      pará   NaN    NaN        Jacareacanga    41487.0  80748.671875   \n",
            "3145      pará   NaN    NaN          Curralinho    27543.0  55652.523438   \n",
            "3183      pará   NaN    NaN                Faro    19585.0  40236.570312   \n",
            "1218  maranhão   NaN    NaN             Cajapió    10337.0  22781.035156   \n",
            "\n",
            "      pib_percapita  \n",
            "1323    1929.969971  \n",
            "3137    1946.359985  \n",
            "3145    2020.569946  \n",
            "3183    2054.459961  \n",
            "1218    2203.830078  \n"
          ]
        }
      ],
      "source": [
        "# código para responder a pergunta\n",
        "top_5_cidades = brasil_df.sort_values(by='pib_percapita', ascending=True).head(5)\n",
        "print(top_5_cidades)"
      ]
    },
    {
      "cell_type": "markdown",
      "metadata": {
        "id": "GqwffgUmedmb"
      },
      "source": [
        " - Quais são as 15 cidades com maior PIB do do estado de São Paulo?"
      ]
    },
    {
      "cell_type": "code",
      "execution_count": null,
      "metadata": {
        "colab": {
          "base_uri": "https://localhost:8080/"
        },
        "id": "tFKEn1gLedmc",
        "outputId": "52211d65-5594-42b1-d72c-f558f6594fff"
      },
      "outputs": [
        {
          "name": "stdout",
          "output_type": "stream",
          "text": [
            "                 estado sigla        regiao                 cidade  \\\n",
            "5341          são paulo   NaN           NaN              São Paulo   \n",
            "3608     rio de janeiro    RJ       SUDESTE         Rio de Janeiro   \n",
            "804    distrito federal    DF  CENTRO-OESTE               Brasília   \n",
            "2550             paraná   NaN           NaN               Curitiba   \n",
            "2308       minas gerais    MG       SUDESTE         Belo Horizonte   \n",
            "143            amazonas    AM         NORTE                 Manaus   \n",
            "3935  rio grande do sul    RS           SUL           Porto Alegre   \n",
            "247               bahia    BA      NORDESTE               Salvador   \n",
            "5293          são paulo   NaN           NaN              Guarulhos   \n",
            "768               ceará   NaN           NaN              Fortaleza   \n",
            "5410          são paulo   NaN           NaN               Campinas   \n",
            "5176          são paulo   NaN           NaN                 Osasco   \n",
            "4880          são paulo   NaN           NaN  São Bernardo do Campo   \n",
            "5414          são paulo   NaN           NaN                Barueri   \n",
            "3665     rio de janeiro    RJ       SUDESTE        Duque de Caxias   \n",
            "\n",
            "       populacao          pib  pib_percapita  \n",
            "5341  11037593.0  389317152.0   35271.929688  \n",
            "3608   6186710.0  175739344.0   28405.949219  \n",
            "804    2606885.0  131487264.0   50438.460938  \n",
            "2550   1851215.0   45762420.0   24720.210938  \n",
            "2308   2452617.0   44595204.0   18182.699219  \n",
            "143    1738641.0   40486108.0   23286.060547  \n",
            "3935   1436123.0   37787912.0   26312.449219  \n",
            "247    2998056.0   32824228.0   10948.500000  \n",
            "5293   1299283.0   32473828.0   24993.650391  \n",
            "768    2505552.0   31789186.0   12687.500000  \n",
            "5410   1064669.0   31654720.0   29731.980469  \n",
            "5176    718646.0   31616452.0   43994.468750  \n",
            "4880    810979.0   28935768.0   35680.050781  \n",
            "5414    270173.0   26908070.0   99595.703125  \n",
            "3665    872762.0   25747558.0   29501.240234  \n"
          ]
        }
      ],
      "source": [
        "# código para responder a pergunta\n",
        "top_15_cidades = brasil_df.sort_values(by='pib', ascending=False).head(15)\n",
        "print(top_15_cidades)"
      ]
    },
    {
      "cell_type": "markdown",
      "metadata": {
        "id": "Wg_la1wOewoB"
      },
      "source": [
        " - Qual é o PIB do estado de Santa Catarina?"
      ]
    },
    {
      "cell_type": "code",
      "execution_count": null,
      "metadata": {
        "colab": {
          "base_uri": "https://localhost:8080/"
        },
        "id": "LwGqow5_ewoB",
        "outputId": "2a8bad8a-f253-4950-f797-11b961cf9165"
      },
      "outputs": [
        {
          "name": "stdout",
          "output_type": "stream",
          "text": [
            "364577.8125\n"
          ]
        }
      ],
      "source": [
        "# código para responder a pergunta\n",
        "pib_sc = brasil_df.loc[brasil_df['estado'] == 'santa catarina', 'pib'].values[0]\n",
        "print(pib_sc)"
      ]
    },
    {
      "cell_type": "markdown",
      "metadata": {
        "id": "Yaw2gDukfApr"
      },
      "source": [
        " - Qual é o população da região sul?"
      ]
    },
    {
      "cell_type": "code",
      "execution_count": null,
      "metadata": {
        "colab": {
          "base_uri": "https://localhost:8080/"
        },
        "id": "enEkNjFQfAps",
        "outputId": "20b68538-512c-4aad-a0f2-529125f81dae"
      },
      "outputs": [
        {
          "name": "stdout",
          "output_type": "stream",
          "text": [
            "17032871.0\n"
          ]
        }
      ],
      "source": [
        "# código para responder a pergunta\n",
        "populacao_sul = brasil_df.loc[brasil_df['regiao'] == 'SUL', 'populacao'].sum()\n",
        "print(populacao_sul)"
      ]
    },
    {
      "cell_type": "markdown",
      "metadata": {
        "id": "9qOaKRS9fFu8"
      },
      "source": [
        " - Qual é o PIB per capito médio das cidades do Mato Grosso do Sul?"
      ]
    },
    {
      "cell_type": "code",
      "execution_count": null,
      "metadata": {
        "colab": {
          "base_uri": "https://localhost:8080/"
        },
        "id": "gX8DVSfFfFu9",
        "outputId": "8ebf0bae-8304-4382-baeb-9cc242d6f72e"
      },
      "outputs": [
        {
          "name": "stdout",
          "output_type": "stream",
          "text": [
            "14458.896859975644\n"
          ]
        }
      ],
      "source": [
        "# código para responder a pergunta\n",
        "pib_percapita_ms = brasil_df.loc[brasil_df['estado'] == 'mato grosso do sul', 'pib_percapita'].mean()\n",
        "print(pib_percapita_ms)"
      ]
    },
    {
      "cell_type": "markdown",
      "metadata": {
        "id": "lvf-VqaffS2D"
      },
      "source": [
        " - Qual é a população do Brasil?"
      ]
    },
    {
      "cell_type": "code",
      "execution_count": null,
      "metadata": {
        "colab": {
          "base_uri": "https://localhost:8080/"
        },
        "id": "_nBsY6EcfS2E",
        "outputId": "f33f3357-588d-4f9e-e76a-710020309f9a"
      },
      "outputs": [
        {
          "name": "stdout",
          "output_type": "stream",
          "text": [
            "191176146.0\n"
          ]
        }
      ],
      "source": [
        "# código para responder a pergunta\n",
        "populacao_brasil = brasil_df['populacao'].sum()\n",
        "print(populacao_brasil)"
      ]
    },
    {
      "cell_type": "markdown",
      "metadata": {
        "id": "hnTSARXpipkP"
      },
      "source": [
        "### **2.3. Visualização**"
      ]
    },
    {
      "cell_type": "markdown",
      "metadata": {
        "id": "7coMkY8xixFO"
      },
      "source": [
        "Utilize o dataframe `brasil_df` para gerar as seguintes visualizações."
      ]
    },
    {
      "cell_type": "markdown",
      "metadata": {
        "id": "SgvPvh4Vjctx"
      },
      "source": [
        " - Gere um gráfico de barras com as 10 cidades menos populosas do Brasil."
      ]
    },
    {
      "cell_type": "code",
      "execution_count": null,
      "metadata": {
        "colab": {
          "base_uri": "https://localhost:8080/",
          "height": 564
        },
        "id": "V8eM0uEUjcty",
        "outputId": "85968aa9-a34a-4d0b-946d-5c5ebd4ffe8d"
      },
      "outputs": [
        {
          "data": {
            "image/png": "[encoded data removed]",
            "text/plain": [
              "<Figure size 1000x600 with 1 Axes>"
            ]
          },
          "metadata": {},
          "output_type": "display_data"
        }
      ],
      "source": [
        "# código para gerar a visualização\n",
        "import matplotlib.pyplot as plt\n",
        "\n",
        "top_10_cidades = brasil_df.sort_values(by='populacao', ascending=True).head(10)\n",
        "\n",
        "plt.figure(figsize=(10, 6))\n",
        "plt.barh(top_10_cidades['cidade'], top_10_cidades['populacao'], color='skyblue')\n",
        "plt.xlabel('População')\n",
        "plt.title('10 Cidades Menos Populosas do Brasil')\n",
        "plt.gca().invert_yaxis()  # Inverte o eixo y para mostrar a cidade menos populosa no topo\n",
        "plt.show()\n"
      ]
    },
    {
      "cell_type": "markdown",
      "metadata": {
        "id": "gsa3SrTjjrGV"
      },
      "source": [
        " - Gere um gráfico de pizza com a proporção da população do Brasil por região."
      ]
    },
    {
      "cell_type": "code",
      "execution_count": null,
      "metadata": {
        "colab": {
          "base_uri": "https://localhost:8080/",
          "height": 675
        },
        "id": "1dvqIAEHjrGV",
        "outputId": "8bd150d6-e5b9-4a5b-9998-89036da9b74f"
      },
      "outputs": [
        {
          "data": {
            "image/png": "[encoded data removed]",
            "text/plain": [
              "<Figure size 800x800 with 1 Axes>"
            ]
          },
          "metadata": {},
          "output_type": "display_data"
        }
      ],
      "source": [
        "# código para gerar a visualização\n",
        "populacao_por_regiao = brasil_df.groupby('regiao')['populacao'].sum()\n",
        "\n",
        "# Criar o gráfico de pizza\n",
        "plt.figure(figsize=(8, 8))\n",
        "plt.pie(populacao_por_regiao, labels=populacao_por_regiao.index, autopct='%1.1f%%', startangle=140, colors=plt.cm.tab20.colors)\n",
        "plt.title('Proporção da População do Brasil por Região')\n",
        "plt.axis('equal')\n",
        "plt.show()"
      ]
    }
  ],
  "metadata": {
    "colab": {
      "provenance": []
    },
    "kernelspec": {
      "display_name": "Python 3",
      "name": "python3"
    }
  },
  "nbformat": 4,
  "nbformat_minor": 0
}
